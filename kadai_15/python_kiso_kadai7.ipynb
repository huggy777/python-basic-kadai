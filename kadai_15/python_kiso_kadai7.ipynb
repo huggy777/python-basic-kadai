{
  "nbformat": 4,
  "nbformat_minor": 0,
  "metadata": {
    "colab": {
      "provenance": []
    },
    "kernelspec": {
      "name": "python3",
      "display_name": "Python 3"
    },
    "language_info": {
      "name": "python"
    }
  },
  "cells": [
    {
      "cell_type": "code",
      "execution_count": null,
      "metadata": {
        "colab": {
          "base_uri": "https://localhost:8080/"
        },
        "id": "SdcI3Q-9hcvw",
        "outputId": "521e3498-6022-44e5-d0dd-bd2a4c7d5c70"
      },
      "outputs": [
        {
          "output_type": "stream",
          "name": "stdout",
          "text": [
            "6\n"
          ]
        }
      ],
      "source": [
        "print(1+5)"
      ]
    },
    {
      "cell_type": "code",
      "source": [
        "print(6*7)"
      ],
      "metadata": {
        "colab": {
          "base_uri": "https://localhost:8080/"
        },
        "id": "C6MtX2AaiO6s",
        "outputId": "faf629d7-e0ee-444b-f901-a19e95fcb165"
      },
      "execution_count": null,
      "outputs": [
        {
          "output_type": "stream",
          "name": "stdout",
          "text": [
            "42\n"
          ]
        }
      ]
    },
    {
      "cell_type": "code",
      "source": [
        "print(45 + 18)\n",
        "print(30 - 12)\n",
        "print(15 * 6)\n",
        "print(30 / 3)\n",
        "print(45 % 8)"
      ],
      "metadata": {
        "colab": {
          "base_uri": "https://localhost:8080/"
        },
        "id": "-B928lWaK5Sy",
        "outputId": "e64d80a2-14ed-4c4f-808d-157082db8204"
      },
      "execution_count": null,
      "outputs": [
        {
          "output_type": "stream",
          "name": "stdout",
          "text": [
            "63\n",
            "18\n",
            "90\n",
            "10.0\n",
            "5\n"
          ]
        }
      ]
    },
    {
      "cell_type": "code",
      "source": [
        "print(\"今日の天気は\" + \"晴れ\")"
      ],
      "metadata": {
        "colab": {
          "base_uri": "https://localhost:8080/"
        },
        "id": "s_hI9W35K5V3",
        "outputId": "3d87a286-f38a-4092-db2b-827e0931bff6"
      },
      "execution_count": null,
      "outputs": [
        {
          "output_type": "stream",
          "name": "stdout",
          "text": [
            "今日の天気は晴れ\n"
          ]
        }
      ]
    },
    {
      "cell_type": "code",
      "source": [
        "print(\"降水確率\" + str(50) + \"%\")"
      ],
      "metadata": {
        "colab": {
          "base_uri": "https://localhost:8080/"
        },
        "id": "mKuXMKYcK5Yo",
        "outputId": "b5031e6c-a5d3-4ad1-8516-7deedf2d00bd"
      },
      "execution_count": null,
      "outputs": [
        {
          "output_type": "stream",
          "name": "stdout",
          "text": [
            "降水確率50%\n"
          ]
        }
      ]
    },
    {
      "cell_type": "code",
      "source": [
        "print(\"降水確率\" + 50 + \"%\")"
      ],
      "metadata": {
        "colab": {
          "base_uri": "https://localhost:8080/",
          "height": 147
        },
        "id": "ont6O4GxK5bF",
        "outputId": "ab87b502-9bcf-46f9-e539-aebf2ed01386"
      },
      "execution_count": null,
      "outputs": [
        {
          "output_type": "error",
          "ename": "TypeError",
          "evalue": "can only concatenate str (not \"int\") to str",
          "traceback": [
            "\u001b[0;31m---------------------------------------------------------------------------\u001b[0m",
            "\u001b[0;31mTypeError\u001b[0m                                 Traceback (most recent call last)",
            "\u001b[0;32m<ipython-input-8-e8f92d234b59>\u001b[0m in \u001b[0;36m<cell line: 1>\u001b[0;34m()\u001b[0m\n\u001b[0;32m----> 1\u001b[0;31m \u001b[0mprint\u001b[0m\u001b[0;34m(\u001b[0m\u001b[0;34m\"降水確率\"\u001b[0m \u001b[0;34m+\u001b[0m \u001b[0;36m50\u001b[0m \u001b[0;34m+\u001b[0m \u001b[0;34m\"%\"\u001b[0m\u001b[0;34m)\u001b[0m\u001b[0;34m\u001b[0m\u001b[0;34m\u001b[0m\u001b[0m\n\u001b[0m",
            "\u001b[0;31mTypeError\u001b[0m: can only concatenate str (not \"int\") to str"
          ]
        }
      ]
    },
    {
      "cell_type": "code",
      "source": [
        "print(\"晴れ\" * 5)"
      ],
      "metadata": {
        "colab": {
          "base_uri": "https://localhost:8080/"
        },
        "id": "XRQpSXllK5dU",
        "outputId": "d408a088-89f2-45d6-eb19-8cf711f8332e"
      },
      "execution_count": null,
      "outputs": [
        {
          "output_type": "stream",
          "name": "stdout",
          "text": [
            "晴れ晴れ晴れ晴れ晴れ\n"
          ]
        }
      ]
    },
    {
      "cell_type": "code",
      "source": [
        "user_name = \"侍太郎\"\n",
        "print(user_name)"
      ],
      "metadata": {
        "colab": {
          "base_uri": "https://localhost:8080/"
        },
        "id": "5jHF1w38K5fm",
        "outputId": "0fe06e34-4f99-4566-b03e-730c74a1068e"
      },
      "execution_count": null,
      "outputs": [
        {
          "output_type": "stream",
          "name": "stdout",
          "text": [
            "侍太郎\n"
          ]
        }
      ]
    },
    {
      "cell_type": "code",
      "source": [
        "number1 = 5\n",
        "number2 = 2.5\n",
        "print(number1 + number2)\n",
        "\n",
        "last_name = \"侍\"\n",
        "first_name = \"太郎\"\n",
        "print(last_name + first_name)"
      ],
      "metadata": {
        "colab": {
          "base_uri": "https://localhost:8080/"
        },
        "id": "zvZQVPQaK5iB",
        "outputId": "41f5e7b4-f79b-4164-a9ff-33950f59261b"
      },
      "execution_count": null,
      "outputs": [
        {
          "output_type": "stream",
          "name": "stdout",
          "text": [
            "7.5\n",
            "侍太郎\n"
          ]
        }
      ]
    },
    {
      "cell_type": "code",
      "source": [
        "last_name = \"侍\"\n",
        "first_name = \"太郎\"\n",
        "sister_name = \"花子\"\n",
        "\n",
        "print(f\"私の名前は{last_name}{first_name}です。妹の名前は{sister_name}です。\")"
      ],
      "metadata": {
        "colab": {
          "base_uri": "https://localhost:8080/"
        },
        "id": "PW-LOyqsK5kM",
        "outputId": "4d2f9410-c3cb-4468-aaa5-68190fbd722e"
      },
      "execution_count": null,
      "outputs": [
        {
          "output_type": "stream",
          "name": "stdout",
          "text": [
            "私の名前は侍太郎です。妹の名前は花子です。\n"
          ]
        }
      ]
    },
    {
      "cell_type": "code",
      "source": [
        "top = 10\n",
        "under = 20\n",
        "high = 5\n",
        "print(((top + under) * high ) / 2)"
      ],
      "metadata": {
        "colab": {
          "base_uri": "https://localhost:8080/"
        },
        "id": "35B34kFYK5md",
        "outputId": "99bee8a6-8814-44be-8f7c-f31571515d87"
      },
      "execution_count": null,
      "outputs": [
        {
          "output_type": "stream",
          "name": "stdout",
          "text": [
            "75.0\n"
          ]
        }
      ]
    },
    {
      "cell_type": "code",
      "source": [
        "from ctypes import ArgumentError\n",
        "top = 10\n",
        "under = 20\n",
        "high = 5\n",
        "area = (((top + under) * high ) / 2)\n",
        "print(f\"{area}cm²\")"
      ],
      "metadata": {
        "colab": {
          "base_uri": "https://localhost:8080/"
        },
        "id": "J2ST0LWTr-4l",
        "outputId": "58eb7258-288b-477d-d38a-de4576fe0dee"
      },
      "execution_count": null,
      "outputs": [
        {
          "output_type": "stream",
          "name": "stdout",
          "text": [
            "75.0cm²\n"
          ]
        }
      ]
    },
    {
      "cell_type": "code",
      "source": [
        "user_names =[\"侍太郎\", \"侍一郎\", \"侍二郎\", \"侍三郎\", \"侍四郎\"]\n",
        "\n",
        "print(user_names[1])\n",
        "\n",
        "user_names[1] = \"侍花子\"\n",
        "print(user_names)\n",
        "\n",
        "user_names.append(\"侍五郎\")\n",
        "print(user_names)\n",
        "\n",
        "user_names.pop(2)\n",
        "print(user_names)\n"
      ],
      "metadata": {
        "colab": {
          "base_uri": "https://localhost:8080/"
        },
        "id": "PEuYtCxatL4a",
        "outputId": "b60d36f9-8385-482c-cd79-bcf946c2503d"
      },
      "execution_count": null,
      "outputs": [
        {
          "output_type": "stream",
          "name": "stdout",
          "text": [
            "侍一郎\n",
            "['侍太郎', '侍花子', '侍二郎', '侍三郎', '侍四郎']\n",
            "['侍太郎', '侍花子', '侍二郎', '侍三郎', '侍四郎', '侍五郎']\n",
            "['侍太郎', '侍花子', '侍三郎', '侍四郎', '侍五郎']\n"
          ]
        }
      ]
    },
    {
      "cell_type": "code",
      "source": [
        "# 1～10までに含まれる素数のセット\n",
        "prime_numbers = {2, 3, 5, 7}\n",
        "\n",
        "# セット全体を表示\n",
        "print(prime_numbers)\n",
        "\n",
        "# セットの3番目の要素を表示 ⇒ できないためエラー\n",
        "print(prime_numbers[2])\n"
      ],
      "metadata": {
        "colab": {
          "base_uri": "https://localhost:8080/",
          "height": 202
        },
        "id": "gXouv9Xcnjzr",
        "outputId": "7e18354d-62dc-4434-caf3-0465f08c4cc9"
      },
      "execution_count": null,
      "outputs": [
        {
          "output_type": "stream",
          "name": "stdout",
          "text": [
            "{2, 3, 5, 7}\n"
          ]
        },
        {
          "output_type": "error",
          "ename": "TypeError",
          "evalue": "'set' object is not subscriptable",
          "traceback": [
            "\u001b[0;31m---------------------------------------------------------------------------\u001b[0m",
            "\u001b[0;31mTypeError\u001b[0m                                 Traceback (most recent call last)",
            "\u001b[0;32m<ipython-input-2-ae90ad45b565>\u001b[0m in \u001b[0;36m<cell line: 8>\u001b[0;34m()\u001b[0m\n\u001b[1;32m      6\u001b[0m \u001b[0;34m\u001b[0m\u001b[0m\n\u001b[1;32m      7\u001b[0m \u001b[0;31m# セットの3番目の要素を表示 ⇒ できないためエラー\u001b[0m\u001b[0;34m\u001b[0m\u001b[0;34m\u001b[0m\u001b[0m\n\u001b[0;32m----> 8\u001b[0;31m \u001b[0mprint\u001b[0m\u001b[0;34m(\u001b[0m\u001b[0mprime_numbers\u001b[0m\u001b[0;34m[\u001b[0m\u001b[0;36m2\u001b[0m\u001b[0;34m]\u001b[0m\u001b[0;34m)\u001b[0m\u001b[0;34m\u001b[0m\u001b[0;34m\u001b[0m\u001b[0m\n\u001b[0m",
            "\u001b[0;31mTypeError\u001b[0m: 'set' object is not subscriptable"
          ]
        }
      ]
    },
    {
      "cell_type": "code",
      "source": [
        "country_names = {\"アメリカ\", \"イギリス\", \"日本\", \"フランス\"}\n",
        "\n",
        "print(country_names)\n",
        "\n",
        "country_names.add(\"ドイツ\")\n",
        "print(country_names)\n",
        "\n",
        "country_names.remove(\"イギリス\")\n",
        "print(country_names)\n"
      ],
      "metadata": {
        "colab": {
          "base_uri": "https://localhost:8080/"
        },
        "id": "q36HdLfinj1P",
        "outputId": "1cc4e4ed-b069-4ebf-f72e-f480080da53c"
      },
      "execution_count": null,
      "outputs": [
        {
          "output_type": "stream",
          "name": "stdout",
          "text": [
            "{'日本', 'アメリカ', 'フランス', 'イギリス'}\n",
            "{'フランス', 'ドイツ', '日本', 'アメリカ', 'イギリス'}\n",
            "{'フランス', 'ドイツ', '日本', 'アメリカ'}\n"
          ]
        }
      ]
    },
    {
      "cell_type": "code",
      "source": [
        "stationery_prices = {\"鉛筆\": 70, \"ボールペン\": 120, \"シャープペンシル\": 150, \"消しゴム\": 90}\n",
        "\n",
        "# ボールペンの価格を取り出して表示\n",
        "print(stationery_prices[\"ボールペン\"])\n",
        "\n",
        "# 連想配列全体を取り出して表示\n",
        "print(stationery_prices)\n"
      ],
      "metadata": {
        "colab": {
          "base_uri": "https://localhost:8080/"
        },
        "id": "isQ19F06nj38",
        "outputId": "f6ff7e73-38f9-4da0-fd89-1971ec5c8861"
      },
      "execution_count": null,
      "outputs": [
        {
          "output_type": "stream",
          "name": "stdout",
          "text": [
            "120\n",
            "{'鉛筆': 70, 'ボールペン': 120, 'シャープペンシル': 150, '消しゴム': 90}\n"
          ]
        }
      ]
    },
    {
      "cell_type": "code",
      "source": [
        "stationery_prices = {\"鉛筆\": 70, \"ボールペン\": 120, \"シャープペンシル\": 150, \"消しゴム\": 90}\n",
        "\n",
        "# 「シャープペンシル」を要素ごと削除\n",
        "stationery_prices.pop(\"シャープペンシル\")\n",
        "\n",
        "# 連想配列全体を取り出して表示\n",
        "print(stationery_prices)\n"
      ],
      "metadata": {
        "colab": {
          "base_uri": "https://localhost:8080/"
        },
        "id": "GOEkfvSznj6d",
        "outputId": "46efd02f-5227-4fb6-e1a6-7da40cb2f82f"
      },
      "execution_count": null,
      "outputs": [
        {
          "output_type": "stream",
          "name": "stdout",
          "text": [
            "{'鉛筆': 70, 'ボールペン': 120, '消しゴム': 90}\n"
          ]
        }
      ]
    },
    {
      "cell_type": "code",
      "source": [
        "fruits = {'Apple': 'Red', 'Banana': 'Yellow', 'Grape': 'Purple'}\n",
        "\n",
        "print(fruits[\"Apple\"])"
      ],
      "metadata": {
        "colab": {
          "base_uri": "https://localhost:8080/"
        },
        "id": "3nvm_sjRnj8z",
        "outputId": "386109ca-8c45-4e8a-9b41-4eb66e58706f"
      },
      "execution_count": null,
      "outputs": [
        {
          "output_type": "stream",
          "name": "stdout",
          "text": [
            "Red\n"
          ]
        }
      ]
    },
    {
      "cell_type": "code",
      "source": [
        "array = [\"月曜日は晴れです\", \"火曜日は雨です\", \"水曜日は晴れです\", \"木曜日は晴れです\", \"金曜日は曇りです\", \"土曜日は曇りのち雨です\", \"日曜日は雷雨です\"]\n",
        "\n",
        "dictionary = {\"mon\": \"晴れ\", \"tue\": \"雨\", \"wed\": \"晴れ\", \"thu\": \"晴れ\", \"fri\": \"曇り\", \"sat\": \"曇りのち雨\", \"sun\": \"雷雨\"}\n",
        "\n",
        "print(array[2])\n",
        "print(dictionary[\"wed\"])"
      ],
      "metadata": {
        "colab": {
          "base_uri": "https://localhost:8080/"
        },
        "id": "qFIdfbdZnj_Z",
        "outputId": "5b05d0c2-06f5-4837-af7f-769c773406c8"
      },
      "execution_count": null,
      "outputs": [
        {
          "output_type": "stream",
          "name": "stdout",
          "text": [
            "水曜日は晴れです\n",
            "晴れ\n"
          ]
        }
      ]
    },
    {
      "cell_type": "code",
      "source": [
        "#ランダムな整数を利用するために、randomモジュールをインポート\n",
        "import random\n",
        "\n",
        "# 変数numに0～4までのランダムな整数を代入する\n",
        "num = random.randint(0, 4)\n",
        "\n",
        "# 変数numの値を出力\n",
        "print(num)\n",
        "\n",
        "# すべての条件が成り立つ場合にのみ処理を行う（変数numの値が2）\n",
        "if 1 < num and num < 3:\n",
        "    print(\"変数numは1より大きく、3より小さいです\")\n",
        "else:\n",
        "    print(\"and条件が成り立ちませんでした\")\n",
        "\n",
        "# 1つでも条件が成り立てば処理を行う（変数numの値が1または3）\n",
        "if num == 1 or num == 3:\n",
        "    print(\"変数numは1または3です\")\n",
        "else:\n",
        "    print(\"or条件が成り立ちませんでした\")\n"
      ],
      "metadata": {
        "colab": {
          "base_uri": "https://localhost:8080/"
        },
        "id": "rWy8QkfsnkBk",
        "outputId": "e22d06ab-ad3d-41fc-b948-735d0e48edb5"
      },
      "execution_count": null,
      "outputs": [
        {
          "output_type": "stream",
          "name": "stdout",
          "text": [
            "2\n",
            "変数numは1より大きく、3より小さいです\n",
            "or条件が成り立ちませんでした\n"
          ]
        }
      ]
    },
    {
      "cell_type": "code",
      "source": [
        "# すべての条件が成り立つ場合にのみ処理を行う（変数numの値が11～29）g\n",
        "if 10 < num and num < 30:\n",
        "    print(\"変数numは10より大きく、30より小さいです\")\n",
        "\n",
        "# 1つでも条件が成り立てば処理を行う（変数numの値が10または30）\n",
        "if num == 10 or num == 30:\n",
        "    print(\"変数numは10または30です\")\n"
      ],
      "metadata": {
        "id": "JPL7ukdFoJLh"
      },
      "execution_count": null,
      "outputs": []
    },
    {
      "cell_type": "code",
      "source": [
        "var = int(input(\"正の整数を入力してください\"))\n",
        "print(\"整数\", var, \"が入力されました\")\n",
        "\n",
        "#3の倍数の場合：number % 3 == 0\n",
        "if var % 3 == 0 and var % 5 == 0:\n",
        "    print(\"FizzBuzz\")\n",
        "elif var % 5 == 0:\n",
        "    print(\"Buzz\")\n",
        "elif var % 3 ==0:\n",
        "    print(\"Fizz\")\n",
        "else:\n",
        "    print(var)"
      ],
      "metadata": {
        "colab": {
          "base_uri": "https://localhost:8080/"
        },
        "id": "XeZ382tSnkER",
        "outputId": "97ac9526-ec99-4b48-da87-8e1f6254423a"
      },
      "execution_count": null,
      "outputs": [
        {
          "output_type": "stream",
          "name": "stdout",
          "text": [
            "正の整数を入力してください10675\n",
            "整数 10675 が入力されました\n",
            "Buzz\n"
          ]
        }
      ]
    },
    {
      "cell_type": "code",
      "source": [
        "personal_data = {\"name\": \"知治\", \"age\": 6, \"gender\": \"男性\"}\n",
        "\n",
        "for key, value in personal_data.items():\n",
        "    print(f\"{key}は{value}です。\")\n",
        "\n",
        "for value in personal_data.values():\n",
        "    print(value)\n"
      ],
      "metadata": {
        "id": "brgYLszEf_T-",
        "colab": {
          "base_uri": "https://localhost:8080/"
        },
        "outputId": "64161ec6-ea99-47ee-c3f4-a48d937c3b88"
      },
      "execution_count": null,
      "outputs": [
        {
          "output_type": "stream",
          "name": "stdout",
          "text": [
            "nameは知治です。\n",
            "ageは6です。\n",
            "genderは男性です。\n",
            "知治\n",
            "6\n",
            "男性\n"
          ]
        }
      ]
    },
    {
      "cell_type": "code",
      "source": [
        "array = [\"水\",\"金\",\"地\",\"火\",\"木\",\"土\",\"天\",\"海\",\"冥\"]\n",
        "\n",
        "for planet_name in array:\n",
        "    print(planet_name)\n",
        "\n",
        "i = 0\n",
        "\n",
        "while i != 9:\n",
        "    print(array[i])\n",
        "    i = i + 1\n"
      ],
      "metadata": {
        "id": "z9cU5Ubnf_ad",
        "colab": {
          "base_uri": "https://localhost:8080/"
        },
        "outputId": "42403068-b851-4c78-97de-cdeb277637e9"
      },
      "execution_count": null,
      "outputs": [
        {
          "output_type": "stream",
          "name": "stdout",
          "text": [
            "水\n",
            "金\n",
            "地\n",
            "火\n",
            "木\n",
            "土\n",
            "天\n",
            "海\n",
            "冥\n",
            "水\n",
            "金\n",
            "地\n",
            "火\n",
            "木\n",
            "土\n",
            "天\n",
            "海\n",
            "冥\n"
          ]
        }
      ]
    },
    {
      "cell_type": "markdown",
      "source": [],
      "metadata": {
        "id": "bNgN1qS78cuJ"
      }
    },
    {
      "cell_type": "code",
      "source": [
        "def add_two_arguments(price, shipping_fee):\n",
        "\n",
        "    total = price + shipping_fee\n",
        "    print(f\"代金は{total}円です\")\n",
        "\n",
        "add_two_arguments(1500, 600)"
      ],
      "metadata": {
        "colab": {
          "base_uri": "https://localhost:8080/"
        },
        "id": "DFfaREm_B8l2",
        "outputId": "f5fc584a-eacd-4bc4-bbf3-7132a63f1bff"
      },
      "execution_count": null,
      "outputs": [
        {
          "output_type": "stream",
          "name": "stdout",
          "text": [
            "代金は2100円です\n"
          ]
        }
      ]
    },
    {
      "cell_type": "code",
      "source": [
        "# 購入済みかどうかを判定する変数\n",
        "purchased = True\n",
        "\n",
        "# 戻り値を返す関数を定義する\n",
        "def is_purchased():\n",
        "    if (purchased):\n",
        "        return True\n",
        "    else:\n",
        "        return False\n",
        "\n",
        "# 戻り値を返す関数を条件式に使う（Trueであれば処理が実行される）\n",
        "if (is_purchased() == False):\n",
        "    print(\"商品は購入済みでは無いです。\")\n",
        "else :\n",
        "    print(\"商品は購入済みです。\")\n"
      ],
      "metadata": {
        "colab": {
          "base_uri": "https://localhost:8080/"
        },
        "id": "-46ky7OFB8dk",
        "outputId": "c97b87f9-98be-423b-ee59-59a0f040b0b3"
      },
      "execution_count": null,
      "outputs": [
        {
          "output_type": "stream",
          "name": "stdout",
          "text": [
            "商品は購入済みです。\n"
          ]
        }
      ]
    },
    {
      "cell_type": "code",
      "source": [
        "def add_two_arguments(price: int, tax: int):\n",
        "\n",
        "    total = price + (price * (tax / 100))\n",
        "    return total\n",
        "\n",
        "total_price = add_two_arguments(1200, 10)\n",
        "print(f\"税込{total_price}円です。\")\n"
      ],
      "metadata": {
        "colab": {
          "base_uri": "https://localhost:8080/"
        },
        "id": "8-YijwxsB8bp",
        "outputId": "98a49d3b-e8cc-4ec9-8497-9bcab68a4771"
      },
      "execution_count": null,
      "outputs": [
        {
          "output_type": "stream",
          "name": "stdout",
          "text": [
            "税込1320.0円です。\n"
          ]
        }
      ]
    },
    {
      "cell_type": "code",
      "source": [
        "price1 = 100\n",
        "price2 = 200\n",
        "\n",
        "def total():\n",
        "    tax = 1.1\n",
        "    return ((price1 + price2)*tax)\n",
        "\n",
        "print (total())"
      ],
      "metadata": {
        "id": "ihK9kd8G3Ym-",
        "colab": {
          "base_uri": "https://localhost:8080/"
        },
        "outputId": "33e8694d-0489-45b1-a33c-f98cc1deacd0"
      },
      "execution_count": 4,
      "outputs": [
        {
          "output_type": "stream",
          "name": "stdout",
          "text": [
            "330.0\n"
          ]
        }
      ]
    },
    {
      "cell_type": "code",
      "source": [
        "price1 = 100\n",
        "price2 = 200\n",
        "\n",
        "def total():\n",
        "    return price1 + price2\n",
        "\n",
        "tax = 1.1\n",
        "print (total() * tax)\n"
      ],
      "metadata": {
        "id": "Q3J37vmI3Yik",
        "colab": {
          "base_uri": "https://localhost:8080/"
        },
        "outputId": "1c0d8670-9830-4af1-9a55-19dcdacd9231"
      },
      "execution_count": 5,
      "outputs": [
        {
          "output_type": "stream",
          "name": "stdout",
          "text": [
            "330.0\n"
          ]
        }
      ]
    },
    {
      "cell_type": "code",
      "source": [
        "class Product:\n",
        "    def __init__(self):\n",
        "        self.name = \"\"\n",
        "\n",
        "shampoo = Product()\n",
        "\n",
        "shampoo.name = \"シャンプー\"\n",
        "print(shampoo.name)"
      ],
      "metadata": {
        "id": "o2GfT7DU3YgX",
        "colab": {
          "base_uri": "https://localhost:8080/"
        },
        "outputId": "11f35666-29f9-4a1a-d37b-e8558dae6611"
      },
      "execution_count": 6,
      "outputs": [
        {
          "output_type": "stream",
          "name": "stdout",
          "text": [
            "シャンプー\n"
          ]
        }
      ]
    },
    {
      "cell_type": "code",
      "source": [
        "class User:\n",
        "    # コンストラクタを定義する\n",
        "    def __init__(self, name, age, gender):\n",
        "        self.name = name\n",
        "        self.age = age\n",
        "        self.gender = gender\n",
        "\n",
        "# インスタンス化する\n",
        "user = User(\"侍太郎\", 36, \"男性\")\n",
        "\n",
        "# 属性にアクセスし、値を出力する\n",
        "print(user.name)\n",
        "print(user.age)\n",
        "print(user.gender)\n"
      ],
      "metadata": {
        "colab": {
          "base_uri": "https://localhost:8080/"
        },
        "id": "Ees-Jz2XQ-cn",
        "outputId": "442f1c87-3da4-4691-874a-9f12ca926494"
      },
      "execution_count": 7,
      "outputs": [
        {
          "output_type": "stream",
          "name": "stdout",
          "text": [
            "侍太郎\n",
            "36\n",
            "男性\n"
          ]
        }
      ]
    },
    {
      "cell_type": "code",
      "source": [
        "from collections.abc import AsyncGenerator\n",
        "#クラス＝ Human , 属性＝ 名前(name)と年齢(age) , メソッド= print:(printinfo)\n",
        "\n",
        "class Human:\n",
        "    def __init__(self, name, age):\n",
        "        self.name = name\n",
        "        self.age = age\n",
        "\n",
        "    def set_name(self, name):\n",
        "        self.name = name\n",
        "        self.age = age\n",
        "\n",
        "    def printinfo(self):\n",
        "        print(self.name)\n",
        "        print(self.age)\n",
        "\n",
        "user = Human(\"侍一郎\", 40)\n",
        "\n",
        "user.printinfo()\n"
      ],
      "metadata": {
        "id": "xj2RrgiH3Yd-",
        "colab": {
          "base_uri": "https://localhost:8080/"
        },
        "outputId": "a7744415-0c70-4318-d14a-7762441294ad"
      },
      "execution_count": 11,
      "outputs": [
        {
          "output_type": "stream",
          "name": "stdout",
          "text": [
            "侍一郎\n",
            "40\n"
          ]
        }
      ]
    },
    {
      "cell_type": "code",
      "source": [
        "class Human:\n",
        "    def __init__(self, name, age):\n",
        "        self.name = name\n",
        "        self.age = age\n",
        "\n",
        "    def printinfo(self):\n",
        "        print(self.name)\n",
        "        print(self.age)\n",
        "\n",
        "user = Human(\"侍一郎\", 40)\n",
        "\n",
        "user.printinfo()"
      ],
      "metadata": {
        "colab": {
          "base_uri": "https://localhost:8080/"
        },
        "id": "0n67k2_2X9lJ",
        "outputId": "9cd3f983-a0b6-4cbd-bd46-0b0290f94c3a"
      },
      "execution_count": 13,
      "outputs": [
        {
          "output_type": "stream",
          "name": "stdout",
          "text": [
            "侍一郎\n",
            "40\n"
          ]
        }
      ]
    },
    {
      "cell_type": "code",
      "source": [
        "_"
      ],
      "metadata": {
        "id": "DijjKejt3Yby"
      },
      "execution_count": null,
      "outputs": []
    },
    {
      "cell_type": "code",
      "source": [],
      "metadata": {
        "id": "hu94N0zl3YZj"
      },
      "execution_count": null,
      "outputs": []
    },
    {
      "cell_type": "code",
      "source": [],
      "metadata": {
        "id": "ol1cPC3H3YW9"
      },
      "execution_count": null,
      "outputs": []
    },
    {
      "cell_type": "code",
      "source": [],
      "metadata": {
        "id": "rJ8dHc2Y3YUO"
      },
      "execution_count": null,
      "outputs": []
    },
    {
      "cell_type": "code",
      "source": [],
      "metadata": {
        "id": "NMRsQ8tG3YO7"
      },
      "execution_count": null,
      "outputs": []
    }
  ]
}